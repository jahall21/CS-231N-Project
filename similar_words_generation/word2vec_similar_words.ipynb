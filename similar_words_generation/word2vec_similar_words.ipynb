{
  "nbformat": 4,
  "nbformat_minor": 0,
  "metadata": {
    "colab": {
      "provenance": []
    },
    "kernelspec": {
      "name": "python3",
      "display_name": "Python 3"
    },
    "language_info": {
      "name": "python"
    }
  },
  "cells": [
    {
      "cell_type": "code",
      "execution_count": null,
      "metadata": {
        "colab": {
          "base_uri": "https://localhost:8080/"
        },
        "id": "zIYrK8tP6P9l",
        "outputId": "6336370f-d7e4-4b5b-80bc-84f7712c192a"
      },
      "outputs": [
        {
          "output_type": "stream",
          "name": "stdout",
          "text": [
            "Mounted at /content/drive\n"
          ]
        }
      ],
      "source": [
        "# This mounts your Google Drive to the Colab VM.\n",
        "from google.colab import drive\n",
        "drive.mount('/content/drive', force_remount=True)\n",
        "\n",
        "# TODO: Enter the foldername in your Drive where you have saved the unzipped\n",
        "# assignment folder, e.g. 'cs231n/assignments/assignment3/'\n",
        "FOLDERNAME = \"cs231n/project\"\n",
        "assert FOLDERNAME is not None, \"[!] Enter the foldername.\"\n",
        "\n",
        "# Now that we've mounted your Drive, this ensures that\n",
        "# the Python interpreter of the Colab VM can load\n",
        "# python files from within it.\n",
        "import sys\n",
        "sys.path.append('/content/drive/My Drive/{}'.format(FOLDERNAME))"
      ]
    },
    {
      "cell_type": "code",
      "source": [
        "#it will ask you to restart the session twice as a warning, but ignore the first one and restart on the second\n",
        "!pip install numpy==1.23.5\n",
        "!pip install gensim==4.3.0"
      ],
      "metadata": {
        "colab": {
          "base_uri": "https://localhost:8080/",
          "height": 1000
        },
        "id": "RMiyeJfd-FAR",
        "outputId": "8f3facd1-4257-4472-d57d-da5b6d0e9f39"
      },
      "execution_count": null,
      "outputs": [
        {
          "output_type": "stream",
          "name": "stdout",
          "text": [
            "Collecting numpy==1.23.5\n",
            "  Downloading numpy-1.23.5-cp311-cp311-manylinux_2_17_x86_64.manylinux2014_x86_64.whl.metadata (2.3 kB)\n",
            "Downloading numpy-1.23.5-cp311-cp311-manylinux_2_17_x86_64.manylinux2014_x86_64.whl (17.1 MB)\n",
            "\u001b[2K   \u001b[90m━━━━━━━━━━━━━━━━━━━━━━━━━━━━━━━━━━━━━━━━\u001b[0m \u001b[32m17.1/17.1 MB\u001b[0m \u001b[31m98.1 MB/s\u001b[0m eta \u001b[36m0:00:00\u001b[0m\n",
            "\u001b[?25hInstalling collected packages: numpy\n",
            "  Attempting uninstall: numpy\n",
            "    Found existing installation: numpy 2.0.2\n",
            "    Uninstalling numpy-2.0.2:\n",
            "      Successfully uninstalled numpy-2.0.2\n",
            "\u001b[31mERROR: pip's dependency resolver does not currently take into account all the packages that are installed. This behaviour is the source of the following dependency conflicts.\n",
            "imbalanced-learn 0.13.0 requires numpy<3,>=1.24.3, but you have numpy 1.23.5 which is incompatible.\n",
            "jaxlib 0.5.1 requires numpy>=1.25, but you have numpy 1.23.5 which is incompatible.\n",
            "pymc 5.22.0 requires numpy>=1.25.0, but you have numpy 1.23.5 which is incompatible.\n",
            "xarray 2025.3.1 requires numpy>=1.24, but you have numpy 1.23.5 which is incompatible.\n",
            "blosc2 3.3.3 requires numpy>=1.26, but you have numpy 1.23.5 which is incompatible.\n",
            "scikit-image 0.25.2 requires numpy>=1.24, but you have numpy 1.23.5 which is incompatible.\n",
            "chex 0.1.89 requires numpy>=1.24.1, but you have numpy 1.23.5 which is incompatible.\n",
            "jax 0.5.2 requires numpy>=1.25, but you have numpy 1.23.5 which is incompatible.\n",
            "albucore 0.0.24 requires numpy>=1.24.4, but you have numpy 1.23.5 which is incompatible.\n",
            "bigframes 2.4.0 requires numpy>=1.24.0, but you have numpy 1.23.5 which is incompatible.\n",
            "db-dtypes 1.4.3 requires numpy>=1.24.0, but you have numpy 1.23.5 which is incompatible.\n",
            "tensorflow 2.18.0 requires numpy<2.1.0,>=1.26.0, but you have numpy 1.23.5 which is incompatible.\n",
            "thinc 8.3.6 requires numpy<3.0.0,>=2.0.0, but you have numpy 1.23.5 which is incompatible.\n",
            "albumentations 2.0.7 requires numpy>=1.24.4, but you have numpy 1.23.5 which is incompatible.\n",
            "treescope 0.1.9 requires numpy>=1.25.2, but you have numpy 1.23.5 which is incompatible.\u001b[0m\u001b[31m\n",
            "\u001b[0mSuccessfully installed numpy-1.23.5\n"
          ]
        },
        {
          "output_type": "display_data",
          "data": {
            "application/vnd.colab-display-data+json": {
              "pip_warning": {
                "packages": [
                  "numpy"
                ]
              },
              "id": "a11398193f01417284455541077d5e5b"
            }
          },
          "metadata": {}
        },
        {
          "output_type": "stream",
          "name": "stdout",
          "text": [
            "Collecting gensim==4.3.0\n",
            "  Downloading gensim-4.3.0-cp311-cp311-manylinux_2_17_x86_64.manylinux2014_x86_64.whl.metadata (8.4 kB)\n",
            "Requirement already satisfied: numpy>=1.18.5 in /usr/local/lib/python3.11/dist-packages (from gensim==4.3.0) (1.23.5)\n",
            "Requirement already satisfied: scipy>=1.7.0 in /usr/local/lib/python3.11/dist-packages (from gensim==4.3.0) (1.15.3)\n",
            "Requirement already satisfied: smart-open>=1.8.1 in /usr/local/lib/python3.11/dist-packages (from gensim==4.3.0) (7.1.0)\n",
            "Collecting FuzzyTM>=0.4.0 (from gensim==4.3.0)\n",
            "  Downloading FuzzyTM-2.0.9-py3-none-any.whl.metadata (7.9 kB)\n",
            "Requirement already satisfied: pandas in /usr/local/lib/python3.11/dist-packages (from FuzzyTM>=0.4.0->gensim==4.3.0) (2.2.2)\n",
            "Collecting pyfume (from FuzzyTM>=0.4.0->gensim==4.3.0)\n",
            "  Downloading pyFUME-0.3.4-py3-none-any.whl.metadata (9.7 kB)\n",
            "Requirement already satisfied: wrapt in /usr/local/lib/python3.11/dist-packages (from smart-open>=1.8.1->gensim==4.3.0) (1.17.2)\n",
            "Requirement already satisfied: python-dateutil>=2.8.2 in /usr/local/lib/python3.11/dist-packages (from pandas->FuzzyTM>=0.4.0->gensim==4.3.0) (2.9.0.post0)\n",
            "Requirement already satisfied: pytz>=2020.1 in /usr/local/lib/python3.11/dist-packages (from pandas->FuzzyTM>=0.4.0->gensim==4.3.0) (2025.2)\n",
            "Requirement already satisfied: tzdata>=2022.7 in /usr/local/lib/python3.11/dist-packages (from pandas->FuzzyTM>=0.4.0->gensim==4.3.0) (2025.2)\n",
            "Collecting scipy>=1.7.0 (from gensim==4.3.0)\n",
            "  Downloading scipy-1.10.1-cp311-cp311-manylinux_2_17_x86_64.manylinux2014_x86_64.whl.metadata (58 kB)\n",
            "\u001b[2K     \u001b[90m━━━━━━━━━━━━━━━━━━━━━━━━━━━━━━━━━━━━━━━━\u001b[0m \u001b[32m58.9/58.9 kB\u001b[0m \u001b[31m4.0 MB/s\u001b[0m eta \u001b[36m0:00:00\u001b[0m\n",
            "\u001b[?25hCollecting numpy>=1.18.5 (from gensim==4.3.0)\n",
            "  Downloading numpy-1.24.4-cp311-cp311-manylinux_2_17_x86_64.manylinux2014_x86_64.whl.metadata (5.6 kB)\n",
            "Collecting simpful==2.12.0 (from pyfume->FuzzyTM>=0.4.0->gensim==4.3.0)\n",
            "  Downloading simpful-2.12.0-py3-none-any.whl.metadata (4.8 kB)\n",
            "Collecting fst-pso==1.8.1 (from pyfume->FuzzyTM>=0.4.0->gensim==4.3.0)\n",
            "  Downloading fst-pso-1.8.1.tar.gz (18 kB)\n",
            "  Preparing metadata (setup.py) ... \u001b[?25l\u001b[?25hdone\n",
            "Collecting pandas (from FuzzyTM>=0.4.0->gensim==4.3.0)\n",
            "  Downloading pandas-1.5.3-cp311-cp311-manylinux_2_17_x86_64.manylinux2014_x86_64.whl.metadata (11 kB)\n",
            "Collecting miniful (from fst-pso==1.8.1->pyfume->FuzzyTM>=0.4.0->gensim==4.3.0)\n",
            "  Downloading miniful-0.0.6.tar.gz (2.8 kB)\n",
            "  Preparing metadata (setup.py) ... \u001b[?25l\u001b[?25hdone\n",
            "Requirement already satisfied: six>=1.5 in /usr/local/lib/python3.11/dist-packages (from python-dateutil>=2.8.2->pandas->FuzzyTM>=0.4.0->gensim==4.3.0) (1.17.0)\n",
            "Downloading gensim-4.3.0-cp311-cp311-manylinux_2_17_x86_64.manylinux2014_x86_64.whl (24.1 MB)\n",
            "\u001b[2K   \u001b[90m━━━━━━━━━━━━━━━━━━━━━━━━━━━━━━━━━━━━━━━━\u001b[0m \u001b[32m24.1/24.1 MB\u001b[0m \u001b[31m84.6 MB/s\u001b[0m eta \u001b[36m0:00:00\u001b[0m\n",
            "\u001b[?25hDownloading FuzzyTM-2.0.9-py3-none-any.whl (31 kB)\n",
            "Downloading pyFUME-0.3.4-py3-none-any.whl (60 kB)\n",
            "\u001b[2K   \u001b[90m━━━━━━━━━━━━━━━━━━━━━━━━━━━━━━━━━━━━━━━━\u001b[0m \u001b[32m60.3/60.3 kB\u001b[0m \u001b[31m4.4 MB/s\u001b[0m eta \u001b[36m0:00:00\u001b[0m\n",
            "\u001b[?25hDownloading numpy-1.24.4-cp311-cp311-manylinux_2_17_x86_64.manylinux2014_x86_64.whl (17.3 MB)\n",
            "\u001b[2K   \u001b[90m━━━━━━━━━━━━━━━━━━━━━━━━━━━━━━━━━━━━━━━━\u001b[0m \u001b[32m17.3/17.3 MB\u001b[0m \u001b[31m23.6 MB/s\u001b[0m eta \u001b[36m0:00:00\u001b[0m\n",
            "\u001b[?25hDownloading scipy-1.10.1-cp311-cp311-manylinux_2_17_x86_64.manylinux2014_x86_64.whl (34.1 MB)\n",
            "\u001b[2K   \u001b[90m━━━━━━━━━━━━━━━━━━━━━━━━━━━━━━━━━━━━━━━━\u001b[0m \u001b[32m34.1/34.1 MB\u001b[0m \u001b[31m49.6 MB/s\u001b[0m eta \u001b[36m0:00:00\u001b[0m\n",
            "\u001b[?25hDownloading pandas-1.5.3-cp311-cp311-manylinux_2_17_x86_64.manylinux2014_x86_64.whl (12.0 MB)\n",
            "\u001b[2K   \u001b[90m━━━━━━━━━━━━━━━━━━━━━━━━━━━━━━━━━━━━━━━━\u001b[0m \u001b[32m12.0/12.0 MB\u001b[0m \u001b[31m102.9 MB/s\u001b[0m eta \u001b[36m0:00:00\u001b[0m\n",
            "\u001b[?25hDownloading simpful-2.12.0-py3-none-any.whl (24 kB)\n",
            "Building wheels for collected packages: fst-pso, miniful\n",
            "  Building wheel for fst-pso (setup.py) ... \u001b[?25l\u001b[?25hdone\n",
            "  Created wheel for fst-pso: filename=fst_pso-1.8.1-py3-none-any.whl size=20431 sha256=61b8417ef1e2b0fdac3ff28c1e26c6782023e9d6c1a4a91c81b1af33607c0d46\n",
            "  Stored in directory: /root/.cache/pip/wheels/69/f5/e5/18ad53fe1ed6b2af9fad05ec052e4acbac8e92441df44bad2e\n",
            "  Building wheel for miniful (setup.py) ... \u001b[?25l\u001b[?25hdone\n",
            "  Created wheel for miniful: filename=miniful-0.0.6-py3-none-any.whl size=3506 sha256=7cabe33a601cbe47b5bec559daa9809e1b31837099ba7a039b809e51c84da45f\n",
            "  Stored in directory: /root/.cache/pip/wheels/9d/ff/2f/afe4cd56f47de147407705626517d68bea0f3b74eb1fb168e6\n",
            "Successfully built fst-pso miniful\n",
            "Installing collected packages: numpy, scipy, pandas, simpful, miniful, fst-pso, pyfume, FuzzyTM, gensim\n",
            "  Attempting uninstall: numpy\n",
            "    Found existing installation: numpy 1.23.5\n",
            "    Uninstalling numpy-1.23.5:\n",
            "      Successfully uninstalled numpy-1.23.5\n",
            "  Attempting uninstall: scipy\n",
            "    Found existing installation: scipy 1.15.3\n",
            "    Uninstalling scipy-1.15.3:\n",
            "      Successfully uninstalled scipy-1.15.3\n",
            "  Attempting uninstall: pandas\n",
            "    Found existing installation: pandas 2.2.2\n",
            "    Uninstalling pandas-2.2.2:\n",
            "      Successfully uninstalled pandas-2.2.2\n",
            "\u001b[31mERROR: pip's dependency resolver does not currently take into account all the packages that are installed. This behaviour is the source of the following dependency conflicts.\n",
            "google-colab 1.0.0 requires pandas==2.2.2, but you have pandas 1.5.3 which is incompatible.\n",
            "jaxlib 0.5.1 requires numpy>=1.25, but you have numpy 1.24.4 which is incompatible.\n",
            "jaxlib 0.5.1 requires scipy>=1.11.1, but you have scipy 1.10.1 which is incompatible.\n",
            "dask-expr 1.1.21 requires pandas>=2, but you have pandas 1.5.3 which is incompatible.\n",
            "plotnine 0.14.5 requires pandas>=2.2.0, but you have pandas 1.5.3 which is incompatible.\n",
            "pymc 5.22.0 requires numpy>=1.25.0, but you have numpy 1.24.4 which is incompatible.\n",
            "xarray 2025.3.1 requires pandas>=2.1, but you have pandas 1.5.3 which is incompatible.\n",
            "dask-cudf-cu12 25.2.2 requires pandas<2.2.4dev0,>=2.0, but you have pandas 1.5.3 which is incompatible.\n",
            "cudf-cu12 25.2.1 requires pandas<2.2.4dev0,>=2.0, but you have pandas 1.5.3 which is incompatible.\n",
            "mizani 0.13.5 requires pandas>=2.2.0, but you have pandas 1.5.3 which is incompatible.\n",
            "blosc2 3.3.3 requires numpy>=1.26, but you have numpy 1.24.4 which is incompatible.\n",
            "scikit-image 0.25.2 requires scipy>=1.11.4, but you have scipy 1.10.1 which is incompatible.\n",
            "jax 0.5.2 requires numpy>=1.25, but you have numpy 1.24.4 which is incompatible.\n",
            "jax 0.5.2 requires scipy>=1.11.1, but you have scipy 1.10.1 which is incompatible.\n",
            "tensorflow 2.18.0 requires numpy<2.1.0,>=1.26.0, but you have numpy 1.24.4 which is incompatible.\n",
            "tsfresh 0.21.0 requires scipy>=1.14.0; python_version >= \"3.10\", but you have scipy 1.10.1 which is incompatible.\n",
            "thinc 8.3.6 requires numpy<3.0.0,>=2.0.0, but you have numpy 1.24.4 which is incompatible.\n",
            "cvxpy 1.6.5 requires scipy>=1.11.0, but you have scipy 1.10.1 which is incompatible.\n",
            "treescope 0.1.9 requires numpy>=1.25.2, but you have numpy 1.24.4 which is incompatible.\u001b[0m\u001b[31m\n",
            "\u001b[0mSuccessfully installed FuzzyTM-2.0.9 fst-pso-1.8.1 gensim-4.3.0 miniful-0.0.6 numpy-1.24.4 pandas-1.5.3 pyfume-0.3.4 scipy-1.10.1 simpful-2.12.0\n"
          ]
        },
        {
          "output_type": "display_data",
          "data": {
            "application/vnd.colab-display-data+json": {
              "pip_warning": {
                "packages": [
                  "numpy"
                ]
              },
              "id": "1ee3f3102cda4d6e8a806dba6502e840"
            }
          },
          "metadata": {}
        }
      ]
    },
    {
      "cell_type": "code",
      "source": [
        "import gensim.downloader as api\n",
        "\n",
        "# Download and load the word2vec-google-news-300 model (~1.6GB)\n",
        "model = api.load(\"word2vec-google-news-300\")"
      ],
      "metadata": {
        "id": "0OzQybcD_XVU",
        "colab": {
          "base_uri": "https://localhost:8080/"
        },
        "outputId": "4c467da6-6d27-4a93-b6de-530456a9e4d7"
      },
      "execution_count": null,
      "outputs": [
        {
          "output_type": "stream",
          "name": "stdout",
          "text": [
            "[==================================================] 100.0% 1662.8/1662.8MB downloaded\n"
          ]
        }
      ]
    },
    {
      "cell_type": "code",
      "source": [
        "# Replace 'word_prompt' with your input word\n",
        "word_prompt = \"surf\"\n",
        "#replace with number of words you want\n",
        "num_related_words = 10\n",
        "# Get top 10 similar words\n",
        "top_related_words = model.most_similar(word_prompt, num_related_words)\n",
        "\n",
        "# Print them\n",
        "for word, similarity in top_related_words:\n",
        "    print(f\"{word}: {similarity:.4f}\")"
      ],
      "metadata": {
        "colab": {
          "base_uri": "https://localhost:8080/"
        },
        "id": "dpp7tPSPCSOw",
        "outputId": "39d26f08-06fc-4b19-8891-5bed667dd29a"
      },
      "execution_count": null,
      "outputs": [
        {
          "output_type": "stream",
          "name": "stdout",
          "text": [
            "surfing: 0.5524\n",
            "Surf: 0.4908\n",
            "surfers: 0.4899\n",
            "Surfing: 0.4574\n",
            "surfer: 0.4392\n",
            "surfs: 0.4381\n",
            "Surf_Junkie_Jeff: 0.4277\n",
            "boardsport: 0.4238\n",
            "Surfer: 0.4135\n",
            "skimboarding: 0.4128\n"
          ]
        }
      ]
    },
    {
      "cell_type": "code",
      "source": [
        "import pickle\n",
        "with open('/content/drive/MyDrive/cs231n/project/DAVIS_labels.pkl', 'rb') as f:\n",
        "    loaded_list = pickle.load(f)\n",
        "print(loaded_list)"
      ],
      "metadata": {
        "colab": {
          "base_uri": "https://localhost:8080/"
        },
        "id": "W-pyYQ5Pe0dc",
        "outputId": "7824552d-92d2-4d39-88d0-31070a3b9531"
      },
      "execution_count": null,
      "outputs": [
        {
          "output_type": "stream",
          "name": "stdout",
          "text": [
            "['bear', 'blackswan', 'bmx-bumps', 'bmx-trees', 'boat', 'breakdance', 'breakdance-flare', 'bus', 'camel', 'car-roundabout', 'car-shadow', 'car-turn', 'cows', 'dance-jump', 'dance-twirl', 'dog', 'dog-agility', 'drift-chicane', 'drift-straight', 'drift-turn', 'elephant', 'flamingo', 'goat', 'hike', 'hockey', 'horsejump-high', 'horsejump-low', 'kite-surf', 'kite-walk', 'libby', 'lucia', 'mallard-fly', 'mallard-water', 'motocross-bumps', 'motocross-jump', 'motorbike', 'paragliding', 'paragliding-launch', 'parkour', 'rhino', 'rollerblade', 'scooter-black', 'scooter-gray', 'soapbox', 'soccerball', 'stroller', 'surf', 'swing', 'tennis', 'train']\n"
          ]
        }
      ]
    },
    {
      "cell_type": "code",
      "source": [
        "text = \"bear\"\n",
        "sub = text.split('-')\n",
        "print(len(sub))"
      ],
      "metadata": {
        "colab": {
          "base_uri": "https://localhost:8080/"
        },
        "id": "n1OEdOSFrf33",
        "outputId": "06a9004b-f933-4d88-abc9-9931daab642c"
      },
      "execution_count": null,
      "outputs": [
        {
          "output_type": "stream",
          "name": "stdout",
          "text": [
            "1\n"
          ]
        }
      ]
    },
    {
      "cell_type": "code",
      "source": [
        "num_related_words = 25\n",
        "relatedDict = dict()\n",
        "missingWords = []\n",
        "for prompt in loaded_list:\n",
        "  subwords = prompt.split('-')\n",
        "  if len(subwords) == 1:\n",
        "    try:\n",
        "      relatedDict[prompt] = model.most_similar(prompt, num_related_words)\n",
        "    except KeyError:\n",
        "      missingWords.append(prompt)\n",
        "  else:\n",
        "    sub_vectors = []\n",
        "    for sub in subwords:\n",
        "      try:\n",
        "        sub_vectors.append(model.get_vector(sub))\n",
        "      except KeyError:\n",
        "        missingWords.append(sub)\n",
        "    composite_vector = sum(sub_vectors) / len(sub_vectors)\n",
        "    relatedDict[prompt] = model.similar_by_vector(composite_vector, num_related_words)\n",
        "print(\"The following words are missing from the model's vocabulary\")\n",
        "print(missingWords)"
      ],
      "metadata": {
        "colab": {
          "base_uri": "https://localhost:8080/"
        },
        "id": "SqlDdv5Ve6Bz",
        "outputId": "b453551c-3431-4d14-f290-2ae5b24af178"
      },
      "execution_count": null,
      "outputs": [
        {
          "output_type": "stream",
          "name": "stdout",
          "text": [
            "The following words are missing from the model's vocabulary\n",
            "['blackswan', 'horsejump', 'horsejump']\n"
          ]
        }
      ]
    },
    {
      "cell_type": "code",
      "source": [
        "print(relatedDict)"
      ],
      "metadata": {
        "colab": {
          "base_uri": "https://localhost:8080/"
        },
        "id": "nvOw8qw9tyth",
        "outputId": "d46e894e-26bc-47a2-9698-5e7b92383609"
      },
      "execution_count": null,
      "outputs": [
        {
          "output_type": "stream",
          "name": "stdout",
          "text": [
            "{'bear': [('bears', 0.5192832350730896), ('bruin', 0.40529438853263855), ('grizzly', 0.4030366837978363), ('moose', 0.377068430185318), ('wolf', 0.3648916482925415), ('cougar', 0.36121734976768494), ('grizzly_bear', 0.35934004187583923), ('furry_beasts', 0.3537890911102295), ('coyote', 0.3438180088996887), ('elephant', 0.339279443025589)], 'bmx-bumps': [('bumps', 0.8353797197341919), ('bmx', 0.6827337741851807), ('bump', 0.5814082622528076), ('camber_corners', 0.5621033906936646), ('BMXs', 0.5601122379302979), ('Bumps', 0.5598877668380737), ('frost_heaves', 0.556693434715271), ('Skiing_snowboarding', 0.5554042458534241), ('vert_ramps', 0.5507672429084778), ('skateboarders_inline_skaters', 0.544262170791626), ('BMXers', 0.543733537197113), ('skateboarders_rollerbladers', 0.5387212038040161), ('steep_descents', 0.5373614430427551), ('twistiest', 0.5364149808883667), ('bumpy', 0.5343039631843567), ('knobby_tires', 0.5306828618049622), ('BMXing', 0.5300154685974121), ('kickflips', 0.5269794464111328), ('cyclocross_bikes', 0.5265246033668518), ('mud_bogs', 0.5259032845497131), ('pop_wheelies', 0.5240893363952637), ('roller_bladers', 0.5226620435714722), ('hairpin_curves', 0.5221490263938904), ('stoppies', 0.5202715992927551), ('motocrossers', 0.5197649002075195)], 'bmx-trees': [('trees', 0.8238227963447571), ('tree', 0.6990407109260559), ('pine_trees', 0.6829114556312561), ('tress', 0.6568872928619385), ('oak_trees', 0.6375664472579956), ('evergreens', 0.6227812767028809), ('bmx', 0.6200100183486938), ('ornamental_cherry', 0.6170353889465332), ('scrub_oaks', 0.61699378490448), ('laurel_oaks', 0.6081081628799438), ('overhanging_vegetation', 0.6070660352706909), ('sycamore_trees', 0.6068283319473267), ('shrubs', 0.605503499507904), ('Trees', 0.6028765439987183), ('forsythia_bushes', 0.5982428193092346), ('evergreen_trees', 0.5973827242851257), ('Fellini_Dante', 0.5954558849334717), ('locust_trees', 0.5933057069778442), ('overhanging_branches', 0.5932924151420593), ('rhododendron_bushes', 0.5925050973892212), ('pine_saplings', 0.5905616879463196), ('evergreen_bushes', 0.588463544845581), ('scotch_pine', 0.5884532928466797), ('broadleaf_trees', 0.5878741145133972), ('Overgrown_trees', 0.5874335765838623)], 'boat': [('boats', 0.5720163583755493), ('pontoon', 0.5462044477462769), ('motorboat', 0.539760172367096), ('sailboat', 0.5368963479995728), ('kayak', 0.5261362791061401), ('canoe', 0.5258185863494873), ('dinghy', 0.5256020426750183), ('fishing_boat', 0.5215198993682861), ('speedboat', 0.520077645778656), ('boats_moored', 0.5167150497436523)], 'breakdance': [('krump', 0.5431260466575623), ('breakdancing', 0.5262336730957031), ('dance', 0.4638066589832306), ('b_boying', 0.4557724595069885), ('breakdancers', 0.448406457901001), ('choreographed_routines', 0.44446614384651184), ('krumping', 0.44067031145095825), ('B_boying', 0.4325731694698334), ('krumpers', 0.432014524936676), ('Krumping', 0.4259352385997772)], 'breakdance-flare': [('breakdance', 0.7752862572669983), ('flare', 0.7096266150474548), ('breakdancing', 0.6224963665008545), ('krump', 0.5731629729270935), ('Krumping', 0.5260896682739258), ('b_boying', 0.522223711013794), ('flares', 0.5083746314048767), ('dance', 0.5045325756072998), ('krumpers', 0.5021715760231018), ('breakdancers', 0.5016791224479675), ('streetdance', 0.4991890490055084), ('Breakdancing', 0.4907272756099701), ('B_boying', 0.48296910524368286), ('beatbox', 0.4806000292301178), ('territorial_disputes_souring', 0.47596049308776855), ('krumping', 0.47101888060569763), ('freerunning', 0.4673224687576294), ('B_Boying', 0.46723473072052), ('erupt', 0.4632546305656433), ('daredevil_acrobatics', 0.4615531265735626), ('Dirty_Disco', 0.4574105143547058), ('shimmy_shake', 0.45732417702674866), ('flaring', 0.45341435074806213), ('hip_hop', 0.4525112509727478), ('beatboxing', 0.4520486891269684)], 'bus': [('busses', 0.5442350506782532), ('buses', 0.5441465973854065), ('Bus', 0.49050480127334595), ('minibus', 0.47506341338157654), ('schoolbus', 0.47003257274627686), ('marshrutka', 0.44549262523651123), ('van', 0.43891024589538574), ('maxi_taxi', 0.43088531494140625), ('daladala', 0.4242369830608368), ('trolley', 0.4235214591026306)], 'camel': [('camels', 0.5284978747367859), ('donkey', 0.4611736238002777), ('dromedary', 0.4373260736465454), ('donkeys', 0.4222441017627716), ('dromedaries', 0.41070711612701416), ('proverbial_camel', 0.4047848880290985), ('llama', 0.40434393286705017), ('goat', 0.39403578639030457), ('horsey', 0.3766011595726013), ('Cathie_Ake', 0.37592798471450806)], 'car-roundabout': [('roundabout', 0.8279702067375183), ('car', 0.7352140545845032), ('opposite_carriageway', 0.6425338983535767), ('dual_carriageway', 0.6404705047607422), ('roundabouts', 0.6364413499832153), ('vehicle', 0.633031964302063), ('pedestrian_crossing', 0.6126343607902527), ('intersection', 0.6053048372268677), ('sliproads', 0.6052165031433105), ('citybound', 0.6042273044586182), ('sliproad', 0.6015123724937439), ('concrete_divider', 0.5986899733543396), ('pelican_crossing', 0.5978929996490479), ('junction', 0.5939360857009888), ('A###_dual_carriageway', 0.5913130044937134), ('nearside_lane', 0.5899433493614197), ('underpass', 0.5886210799217224), ('notorious_accident_blackspot', 0.5851152539253235), ('single_decker_bus', 0.5825271010398865), ('A##_dual_carriageway', 0.5806841850280762), ('B####_junction', 0.5804424285888672), ('Biker_dies', 0.5772029757499695), ('righthand_lane', 0.577126681804657), ('silver_Vauxhall_Zafira', 0.5763370990753174), ('zebra_crossing', 0.5748113989830017)], 'car-shadow': [('shadow', 0.7304568886756897), ('car', 0.6939510703086853), ('vehicle', 0.515297532081604), ('SUV', 0.5024555325508118), ('shadows', 0.49657201766967773), ('cars', 0.4929569661617279), ('rearview_mirror', 0.4890401363372803), ('Honda_Civic_hatchback', 0.47554710507392883), ('Range_Rover', 0.4719727039337158), ('Jaguar_XJ6', 0.4715785086154938), ('burgundy_sedan', 0.4636668860912323), ('Chevy_Caprice_Classic', 0.4623953402042389), ('Toyota_Tundra_pickup_truck', 0.4623308479785919), ('sedan', 0.4607957899570465), ('Chevy_Chevette', 0.4598589837551117), ('Mercedes', 0.45832353830337524), ('Volkswagen_beetle', 0.4580008089542389), ('blue_Ford_Mondeo', 0.4542180299758911), ('rear_taillight', 0.4536559283733368), ('scooter', 0.45263782143592834), ('motorycle', 0.4523308575153351), ('Vauxhall_Zafira', 0.4514402449131012), ('Ford_Focus', 0.4495418667793274), ('Hyundai_Lantra', 0.4486719071865082), ('Toyota_Caldina', 0.4482012689113617)], 'car-turn': [('car', 0.8223147988319397), ('turn', 0.6951000094413757), ('vehicle', 0.6251992583274841), ('cars', 0.6179904341697693), ('SUV', 0.583207368850708), ('minivan', 0.5663766860961914), ('truck', 0.5660697817802429), ('Honda_Civic', 0.565271258354187), ('Chrysler_LeBaron', 0.5486837029457092), ('Geo_Prizm', 0.5431896448135376), ('Car', 0.5427602529525757), ('Ford_Focus', 0.5401741862297058), ('Ford_Festiva', 0.5397933721542358), ('scooter', 0.5392011404037476), ('Ford_Escort', 0.5362175107002258), ('Ford_Mustang', 0.5349814295768738), ('Ford_Taurus', 0.5319912433624268), ('pickup_truck', 0.5304830074310303), ('vehcile', 0.5296995639801025), ('vechile', 0.5290034413337708), ('van', 0.5282707810401917), ('Ford_Explorer', 0.5263961553573608), ('skidding_sideways', 0.5263292193412781), ('minvan', 0.525905966758728), ('Citroen_Xantia', 0.525499701499939)], 'cows': [('goats', 0.5424354672431946), ('cow', 0.5399026274681091), ('dairy_cows', 0.5278376340866089), ('cattle', 0.5205116271972656), ('bovines', 0.5081542730331421), ('sheep', 0.5003867745399475), ('chickens', 0.49681007862091064), ('Holstein_cows', 0.492203027009964), ('pigs', 0.4880874752998352), ('calves', 0.47931239008903503)], 'dance-jump': [('dance', 0.8008031845092773), ('jump', 0.7464126348495483), ('dancing', 0.6602649688720703), ('dances', 0.6227092742919922), ('jumps', 0.6007785797119141), ('lindy_hop', 0.5802422761917114), ('jumping', 0.5790824890136719), ('dancers', 0.5630865097045898), ('breakdance', 0.5575435161590576), ('ballroom_dance', 0.5566357374191284), ('Dance', 0.552966296672821), ('dance_routines', 0.5527748465538025), ('Lindy_hop', 0.5440701842308044), ('ballet', 0.5440293550491333), ('Cupid_Shuffle', 0.5357738733291626), ('jitterbug', 0.5347956418991089), ('ballroom_dancing', 0.5260958671569824), ('dancer', 0.5235801339149475), ('belly_dancing', 0.5215628147125244), ('bunny_hop', 0.521446168422699), ('salsa_tango', 0.5200070738792419), ('cartwheels', 0.5196091532707214), ('tango', 0.5161694884300232), ('Featuring_disc_jockeys', 0.5119059681892395), ('twirl', 0.5107136964797974)], 'dance-twirl': [('twirl', 0.8851628303527832), ('dance', 0.8455037474632263), ('dancing', 0.7644440531730652), ('dances', 0.7256269454956055), ('twirling', 0.6959524750709534), ('dancers', 0.6801974773406982), ('lindy_hop', 0.6626986265182495), ('shimmy', 0.6500508785247803), ('twirls', 0.648207426071167), ('danced', 0.6421130299568176), ('waltz', 0.6371588110923767), ('dance_routines', 0.6371058225631714), ('ballroom_dance', 0.6257138252258301), ('tango_cha_cha', 0.6229309439659119), ('salsa_tango', 0.618934154510498), ('jete', 0.6184573173522949), ('cha_chas', 0.6119861602783203), ('Dance', 0.6072496771812439), ('plié', 0.6071836352348328), ('plie', 0.6060731410980225), ('cancan', 0.6029386520385742), ('Lindy_hop', 0.6010972261428833), ('waltz_fox_trot', 0.6010932326316833), ('cha_cha_rumba', 0.601061224937439), ('choreographed_dance', 0.6009246110916138)], 'dog': [('dogs', 0.6271675229072571), ('puppy', 0.5875186324119568), ('pooch', 0.5731596946716309), ('cat', 0.5716216564178467), ('Staffie', 0.5559656023979187), ('pit_bull', 0.5529523491859436), ('chihuahua', 0.5447208285331726), ('beagle', 0.5362416505813599), ('canines', 0.5361222624778748), ('Doberman', 0.5332759022712708)], 'dog-agility': [('agility', 0.8311244249343872), ('dog', 0.7555252909660339), ('dogs', 0.6781370043754578), ('puppy', 0.6205284595489502), ('pit_bull', 0.6161550283432007), ('canines', 0.6154038310050964), ('obedience_agility', 0.610785961151123), ('lure_coursing', 0.6045059561729431), ('border_collie', 0.6005120277404785), ('pup', 0.5944125652313232), ('brindle_colored', 0.5941691994667053), ('Pomeranian', 0.5858533382415771), ('USDAA', 0.5817240476608276), ('Rottweiler', 0.5810228586196899), ('German_shepherd', 0.579558789730072), ('Doberman', 0.579418957233429), ('rotweiller', 0.5792025327682495), ('cat', 0.5774812698364258), ('golden_retriever', 0.5771234035491943), ('Border_Collies', 0.5769939422607422), ('pooch', 0.5759871602058411), ('Rottweiler_mix', 0.5736121535301208), ('housetraining', 0.5703161954879761), ('bullmastiff', 0.5696236491203308), ('schipperke', 0.5693908929824829)], 'drift-chicane': [('chicane', 0.8971959948539734), ('Parabolica', 0.7022221088409424), ('hairpin', 0.69999098777771), ('understeered', 0.6881995797157288), ('Craner_Curves', 0.6795538067817688), ('Ste_Devote', 0.6760940551757812), ('Ascari_chicane', 0.6732443571090698), ('chicanes', 0.6664181351661682), ('Variante_Alta', 0.6645458340644836), ('Blanchimont', 0.6598526239395142), ('outbrake', 0.6575800180435181), ('pit_lane', 0.6571548581123352), ('La_Rascasse', 0.6570822596549988), ('Clearways', 0.6568195819854736), ('esses', 0.6545353531837463), ('Rascasse', 0.6544544100761414), ('pitlane', 0.6511526703834534), ('outbraked_himself', 0.6443537473678589), ('gravel_trap', 0.6443368792533875), ('Eau_Rouge', 0.6433998346328735), ('oversteering', 0.6413618922233582), ('Raidillon', 0.6370283365249634), ('understeer', 0.6365041136741638), ('Sainte_Devote', 0.6356263160705566), ('outbraked', 0.634677529335022)], 'drift-straight': [('drift', 0.7932265400886536), ('straight', 0.7369341850280762), ('drifting', 0.6577214002609253), ('drifted', 0.564879834651947), ('slip', 0.5641899108886719), ('creep', 0.5299228429794312), ('slipping', 0.49537867307662964), ('drifts', 0.49325403571128845), ('slide', 0.4817778170108795), ('consecutive', 0.48154929280281067), ('stumble', 0.47611260414123535), ('skidding_sideways', 0.468439519405365), ('rotating_counterclockwise', 0.4666152000427246), ('skidding', 0.4665677547454834), ('falling', 0.46487367153167725), ('abut_steep_slope', 0.460166335105896), ('enthusiasm_wanes', 0.4594368636608124), ('meander', 0.4592685401439667), ('veer', 0.4565466344356537), ('freewheeled', 0.45329809188842773), ('careen_wildly', 0.4507213532924652), ('intermittent_squalls', 0.45007240772247314), ('bounce', 0.44879812002182007), ('fade', 0.4481247663497925), ('glide', 0.44796451926231384)], 'drift-turn': [('drift', 0.8748528957366943), ('turn', 0.7813408970832825), ('drifting', 0.6676524877548218), ('creep', 0.5877251029014587), ('turning', 0.5767219066619873), ('veer', 0.5704370737075806), ('drifted', 0.5637315511703491), ('slip', 0.5607128739356995), ('careen', 0.5573077201843262), ('wander', 0.534510612487793), ('nudge', 0.5323927998542786), ('turns', 0.5182837843894958), ('fade', 0.516268789768219), ('drifts', 0.5129903554916382), ('steer', 0.5107324719429016), ('hurtle', 0.5099076628684998), ('stumble', 0.5061949491500854), ('move', 0.5039772987365723), ('turned', 0.503960907459259), ('pull', 0.49859312176704407), ('meander', 0.494233101606369), ('sink', 0.49227893352508545), ('slosh', 0.4884110689163208), ('morph', 0.488258957862854), ('Turning', 0.4840262830257416)], 'elephant': [('elephants', 0.5806718468666077), ('pachyderm', 0.4891900420188904), ('rhino', 0.4883870780467987), ('rhinoceros', 0.48059678077697754), ('tiger', 0.4624461829662323), ('giraffe', 0.4508119225502014), ('giraffes', 0.43552637100219727), ('tigers', 0.43526318669319153), ('hippo', 0.4347745478153229), ('gibbon', 0.4305904507637024)], 'flamingo': [('flamingos', 0.5064325332641602), ('flamingoes', 0.4256970286369324), ('dragonfly', 0.4234572947025299), ('furry_scaly', 0.4212396442890167), ('gibbon', 0.4204537868499756), ('bird', 0.4123990535736084), ('giraffe', 0.41175714135169983), ('parrot', 0.4093860983848572), ('turtle', 0.4064687490463257), ('peacock', 0.401142418384552)], 'goat': [('goats', 0.5375675559043884), ('llama', 0.5213223099708557), ('pig', 0.45961782336235046), ('sheep', 0.4537123143672943), ('donkey', 0.4346821904182434), ('cow', 0.4334356188774109), ('buffalo', 0.42493030428886414), ('cluck_cluck', 0.4223891794681549), ('piglet', 0.42229434847831726), ('James_Prusci', 0.4217076301574707)], 'hike': [('hikes', 0.5953108668327332), ('rate_hikes', 0.4467868506908417), ('hiked', 0.437149316072464), ('hiking', 0.43266549706459045), ('Hike', 0.3899804651737213), ('increases', 0.36915501952171326), ('fare_hikes', 0.36543262004852295), ('cuts', 0.3487389385700226), ('moderately_strenuous', 0.3409801125526428), ('monetary_tightening', 0.3354683220386505)], 'hockey': [('Hockey', 0.4929155707359314), ('rink', 0.46632203459739685), ('lacrosse', 0.4381403923034668), ('Hockey_League', 0.433545857667923), ('skating', 0.4312696158885956), ('ringette', 0.4308505058288574), ('Lynah_Faithful', 0.43078309297561646), ('NHLers', 0.42643898725509644), ('coach_Marc_Habscheid', 0.4261428415775299), ('NHLer', 0.4211118817329407)], 'horsejump-high': [('high', 1.0000001192092896), ('low', 0.7421891689300537), ('High', 0.5790752172470093), ('higher', 0.569451630115509), ('highest', 0.5553146004676819), ('ahigh', 0.5219955444335938), ('lower', 0.5140001177787781), ('Low', 0.5026225447654724), ('HIGH', 0.4793128967285156), ('lowest', 0.46907445788383484), ('elevated', 0.46033966541290283), ('hight', 0.45709168910980225), ('HIgh', 0.4565701484680176), ('rising', 0.4479706287384033), ('stratospheric', 0.4335721433162689), ('drops_precipitously', 0.43213731050491333), ('hig', 0.42585060000419617), ('lofty', 0.41642311215400696), ('soaring', 0.41012394428253174), ('thehigh', 0.4060576856136322), ('aboveaverage', 0.40233591198921204), ('ultrahigh', 0.39894217252731323), ('highs', 0.39820221066474915), ('higest', 0.3948279321193695), ('above', 0.39179348945617676)], 'horsejump-low': [('low', 1.0000001192092896), ('high', 0.7421892285346985), ('Low', 0.6456699967384338), ('lower', 0.5603892207145691), ('lowest', 0.5560232400894165), ('higher', 0.5062159299850464), ('lowish', 0.4725687503814697), ('ultralow', 0.46231481432914734), ('ahigh', 0.45913025736808777), ('zero', 0.45149368047714233), ('below', 0.4506421387195587), ('historic_lows', 0.44613128900527954), ('Unlike_Suleman_Kamrava', 0.44407108426094055), ('levels', 0.4434668719768524), ('Ultralow', 0.4364325702190399), ('Christoph_Rieger_fixed', 0.43440166115760803), ('drops_precipitously', 0.4342828094959259), ('abysmally_low', 0.4332078993320465), ('highest', 0.4321131706237793), ('rising', 0.4289734959602356), ('lows', 0.4264603555202484), ('cheap', 0.4207630157470703), ('poor', 0.41752779483795166), ('inched_upward', 0.4116111099720001), ('barely_budged', 0.4114498794078827)], 'kite-surf': [('surf', 0.8092859387397766), ('kite', 0.8031958937644958), ('surfing', 0.6620144248008728), ('kitesurfing', 0.6553974151611328), ('surfboard', 0.643692135810852), ('kites', 0.6387932896614075), ('kiteboarding', 0.6350334286689758), ('kite_boarding', 0.621962308883667), ('standup_paddle', 0.6206648349761963), ('windsurf', 0.6201735138893127), ('skimboard', 0.6195250153541565), ('kite_boarders', 0.6157990097999573), ('kiteboard', 0.605522871017456), ('skim_boarding', 0.6050446033477783), ('boogie_boarders', 0.6042903661727905), ('kitesurfers', 0.6014482378959656), ('kite_surfers', 0.5969885587692261), ('surfer', 0.5946002006530762), ('shorebreak', 0.5934474468231201), ('surfers', 0.5884789824485779), ('parasail', 0.5876230597496033), ('paddleboard', 0.5857603549957275), ('kite_buggying', 0.5848982334136963), ('alaia', 0.5799955129623413), ('kite_surf', 0.5799257159233093)], 'kite-walk': [('kite', 0.8113020062446594), ('walk', 0.6598225831985474), ('kites', 0.6271262168884277), ('stunt_kites', 0.5728629231452942), ('kayak', 0.5468728542327881), ('flying_kite', 0.5301175713539124), ('paddle', 0.5278409123420715), ('fly_kite', 0.5215489864349365), ('walking', 0.5191217064857483), ('walker', 0.5106520056724548), ('canoe', 0.5083555579185486), ('fly_kites', 0.5078713297843933), ('kite_flying', 0.5016486048698425), ('coracle', 0.49876925349235535), ('parasail', 0.4978863000869751), ('paddle_canoe', 0.48939165472984314), ('doggy_paddle', 0.4860695004463196), ('kite_surf', 0.485161155462265), ('paddle_kayak', 0.4837974011898041), ('glider', 0.48327547311782837), ('rope', 0.4766099452972412), ('slackline', 0.4751019775867462), ('paraglide', 0.4744671583175659), ('windsurf', 0.4743430018424988), ('kayak_paddle', 0.4738122224807739)], 'libby': [('biatch', 0.467273473739624), ('gossiper', 0.4640885889530182), ('nilly', 0.4589405357837677), ('sayer', 0.4570653438568115), ('fud', 0.45542916655540466), ('tuts', 0.4543750584125519), ('ab_***', 0.4491879642009735), ('baaad', 0.44905993342399597), ('sleeze', 0.4475051760673523), ('f_**_cking', 0.44542795419692993)], 'lucia': [('uff', 0.4488684833049774), ('DEAR_CONCERNED', 0.4368095099925995), ('www.orgsites.com', 0.4357331395149231), ('señora', 0.43342188000679016), ('por_favor', 0.4333392381668091), ('abs_cbn', 0.42951035499572754), ('okey', 0.42682209610939026), ('monica', 0.42196816205978394), ('hayes', 0.4218403995037079), ('cuidado', 0.42159953713417053)], 'mallard-fly': [('mallard', 0.8182531595230103), ('fly', 0.7009826302528381), ('mallards', 0.6493787169456482), ('bird', 0.6160517334938049), ('bufflehead', 0.614467203617096), ('geese', 0.6133092045783997), ('drake_mallard', 0.6070529222488403), ('common_merganser', 0.6068249940872192), ('killdeer', 0.6041948199272156), ('Eurasian_collared_doves', 0.6032807230949402), ('mallard_duck', 0.6030114889144897), ('bluebills', 0.6025515794754028), ('birds', 0.6016964912414551), ('horned_lark', 0.6000931262969971), ('turkey_buzzard', 0.5997052192687988), ('tundra_swan', 0.5954734683036804), ('goldeneyes', 0.5901712775230408), ('rusty_blackbird', 0.5889731645584106), ('bluebill', 0.586309015750885), ('ruddy_turnstone', 0.5816311836242676), ('flies', 0.5774011015892029), ('sharp_shinned_hawk', 0.5759323835372925), ('dragonfly', 0.5755409002304077), ('spoonbill', 0.5744917988777161), ('stonefly_nymph', 0.5730696320533752)], 'mallard-water': [('mallard', 0.8449553847312927), ('mallards', 0.7126586437225342), ('water', 0.6692854762077332), ('bluebills', 0.6258300542831421), ('mallards_gadwalls', 0.610846757888794), ('bufflehead', 0.6096653342247009), ('ring_necked_ducks', 0.6075687408447266), ('common_merganser', 0.6018297672271729), ('goldeneyes', 0.601383626461029), ('mallard_ducks', 0.5972240567207336), ('mallard_duck', 0.5944234728813171), ('puddle_ducks', 0.5943429470062256), ('pied_billed_grebe', 0.5937359929084778), ('bluebill', 0.5925549268722534), ('sharptail', 0.5901842713356018), ('freshwater', 0.5887979865074158), ('ringnecks', 0.5887480974197388), ('Loggerhead_turtle', 0.5882997512817383), ('hooded_merganser', 0.5871196985244751), ('merganser', 0.5870739817619324), ('drake_mallard', 0.5859711766242981), ('hooded_mergansers', 0.5841102600097656), ('Scaup', 0.5838327407836914), ('anhinga', 0.582328736782074), ('scaups', 0.5822744965553284)], 'motocross-bumps': [('motocross', 0.8088022470474243), ('bumps', 0.7245461940765381), ('motorcross', 0.6598438024520874), ('Motocross', 0.6099314093589783), ('motocross_racing', 0.6057885885238647), ('motocross_rider', 0.6015695929527283), ('supercross', 0.5971127152442932), ('motocross_riders', 0.587001383304596), ('mountainbike', 0.5821791291236877), ('motocross_racer', 0.5769473910331726), ('Supermoto', 0.5761178731918335), ('supermoto', 0.5723133087158203), ('motocross_supercross', 0.5715508460998535), ('rockcrawling', 0.5704028010368347), ('motocrossers', 0.5685485005378723), ('mountainbiking', 0.5681461691856384), ('motocross_racers', 0.5679987072944641), ('roadracing', 0.5672783851623535), ('racers', 0.5650697946548462), ('enduro', 0.563653290271759), ('hillclimbing', 0.5605002045631409), ('BMX', 0.557752251625061), ('dirtbike', 0.5576993823051453), ('racing', 0.5564649701118469), ('cyclocross', 0.5528820157051086)], 'motocross-jump': [('motocross', 0.8311890363693237), ('motorcross', 0.6762245297431946), ('jump', 0.6620162725448608), ('supercross', 0.6454155445098877), ('Motocross', 0.6289169788360596), ('motocross_rider', 0.6199339032173157), ('motocross_riders', 0.6167170405387878), ('motocross_racing', 0.6139612197875977), ('BMX', 0.6125826239585876), ('Robbie_Maddo_Maddison', 0.5939888954162598), ('freestyle_motocross', 0.5892177224159241), ('Ryan_Nyquist', 0.5880759954452515), ('enduro', 0.5848827362060547), ('supermoto', 0.5847533941268921), ('motocross_racer', 0.5811779499053955), ('racing', 0.5783972144126892), ('hillclimbing', 0.576107382774353), ('snowcross', 0.5721787810325623), ('Ronnie_Renner', 0.572039008140564), ('Tommy_Clowers', 0.5712931156158447), ('snocross', 0.5706139206886292), ('pole_vaulting', 0.5696211457252502), ('Jeremy_Twitch_Stenberg', 0.5685625076293945), ('cyclocross', 0.5676494836807251), ('Moto_X', 0.566347599029541)], 'motorbike': [('motorbikes', 0.5531939268112183), ('scooter', 0.5034584403038025), ('motorcycle', 0.48949962854385376), ('moped', 0.473251610994339), ('bike', 0.4703376293182373), ('riding_motorbike', 0.4686149060726166), ('scooty', 0.4536377191543579), ('quad_bike', 0.45357462763786316), ('trishaw', 0.44966569542884827), ('pushbike', 0.4486248791217804)], 'paragliding': [('paragliders', 0.48936745524406433), ('hang_gliding', 0.48853254318237305), ('kayaking', 0.46955204010009766), ('paraglider', 0.4533930718898773), ('zorbing', 0.4490947425365448), ('kitesurfing', 0.4460000991821289), ('tandem_skydiving', 0.44357261061668396), ('Paragliding', 0.44286078214645386), ('skydiving', 0.4387345612049103), ('skiing', 0.435091495513916)], 'paragliding-launch': [('paragliding', 0.8493972420692444), ('launch', 0.6407126784324646), ('hang_gliding', 0.6048462986946106), ('Paragliding', 0.5819985270500183), ('Hang_gliding', 0.5737999081611633), ('paraglide', 0.5653504133224487), ('para_gliding', 0.5586044788360596), ('paragliders', 0.5516736507415771), ('skydiving', 0.5391757488250732), ('paraglider', 0.5350642800331116), ('kitesurfing', 0.5332121849060059), ('paramotor', 0.5284411907196045), ('powered_paraglider', 0.5221457481384277), ('launches', 0.5156302452087402), ('skydive', 0.5125627517700195), ('tandem_skydiving', 0.5077751874923706), ('launching', 0.5065920948982239), ('snowkiting', 0.5005549192428589), ('heliskiing', 0.5005099177360535), ('Bir_Billing', 0.5004859566688538), ('bungy_jump', 0.49856922030448914), ('Paragliders', 0.4971330165863037), ('zorbing', 0.49680712819099426), ('kite_buggying', 0.4967556297779083), ('Felix_Baumgartner', 0.49672937393188477)], 'parkour': [('Parkour', 0.6245677471160889), ('traceur', 0.49896544218063354), ('traceurs', 0.472549170255661), ('Le_Parkour', 0.46738892793655396), ('krump', 0.45186084508895874), ('Toorock', 0.4405094385147095), ('freerunning', 0.43837428092956543), ('Sebastien_Foucan', 0.42267686128616333), ('Mark_Toorock', 0.41208770871162415), ('capoeira', 0.4072455167770386)], 'rhino': [('rhinos', 0.5896631479263306), ('rhinoceros', 0.5551460981369019), ('elephants', 0.5271406173706055), ('elephant', 0.4942326247692108), ('hippo', 0.48162841796875), ('antelope', 0.4731641709804535), ('gibbon', 0.47304460406303406), ('antelopes', 0.4693640172481537), ('giraffe', 0.4689895808696747), ('tigers', 0.46589353680610657)], 'rollerblade': [('roller_blade', 0.4831162691116333), ('biking', 0.460224986076355), ('rollerblading', 0.4482492506504059), ('rollerblades', 0.43351292610168457), ('roller_blading', 0.43037572503089905), ('roller_bladers', 0.4297419786453247), ('bicyclers', 0.4295905828475952), ('Rollerblading', 0.42430415749549866), ('jogging_biking', 0.42409995198249817), ('rollerskate', 0.42340436577796936)], 'scooter-black': [('scooter', 0.7973874807357788), ('black', 0.6573020219802856), ('moped', 0.6328818798065186), ('motor_scooter', 0.6174203753471375), ('bicycle', 0.604093611240387), ('scooters', 0.6028074622154236), ('Yamaha_motorbike', 0.6011499166488647), ('Huffy_bicycle', 0.5951818823814392), ('motocycle', 0.5909386277198792), ('motorscooter', 0.5902040004730225), ('Honda_Civic_hatchback', 0.5901408791542053), ('motorcycle', 0.5791135430335999), ('Piaggio_scooter', 0.577003538608551), ('Citroen_Xantia', 0.5760974884033203), ('Renault_Kangoo_van', 0.5757883191108704), ('Mongoose_bicycle', 0.575045108795166), ('Mercedes_sedan', 0.5717184543609619), ('Schwinn_bicycle', 0.5712297558784485), ('bike', 0.5693832039833069), ('Mitsubishi_Montero_SUV', 0.5642755627632141), ('Mongoose_mountain', 0.5628281235694885), ('Corsa_bakkie', 0.5619112849235535), ('Suzuki_Vitara', 0.5612546801567078), ('Plymouth_Acclaim', 0.558563768863678), ('Honda_Ballade', 0.5580403804779053)], 'scooter-gray': [('scooter', 0.7940719723701477), ('gray', 0.7110177874565125), ('moped', 0.6515485048294067), ('scooters', 0.6283661127090454), ('Yamaha_motorbike', 0.6059178113937378), ('Fiat_Brava', 0.6037004590034485), ('motor_scooter', 0.5955672860145569), ('Mongoose_mountain', 0.5931654572486877), ('Huffy_bicycle', 0.5930445790290833), ('Mercedes_sedan', 0.5918346047401428), ('Citroen_Xantia', 0.5863659381866455), ('mushy_broccoli', 0.579669177532196), ('##cc_scooter', 0.5790368914604187), ('Schwinn_bicycle', 0.5783337950706482), ('Piaggio_scooter', 0.5768772959709167), ('Vauxhall_Astra_van', 0.5764376521110535), ('Suzuki_Vitara', 0.5762960910797119), ('Kawasaki_motorbike', 0.5755711197853088), ('Honda_Civic_hatchback', 0.5745983123779297), ('motorscooter', 0.5735170245170593), ('Roadmaster_bicycle', 0.5735151171684265), ('bike', 0.573303759098053), ('bicycle', 0.5726752877235413), ('electric_scooter', 0.5722354054450989), ('motocycle', 0.5720299482345581)], 'soapbox': [('soapboxes', 0.49766433238983154), ('mamby_pamby', 0.3958524763584137), ('witty_retort', 0.38308724761009216), ('navel_gaze', 0.3803815245628357), ('whoop_dee', 0.37795931100845337), ('vicarious_enjoyment', 0.3770756125450134), ('meaningless_drivel', 0.37557047605514526), ('neener_neener', 0.37549135088920593), ('bludge', 0.36501938104629517), ('tommyrot', 0.36422640085220337)], 'soccerball': [('goos', 0.4041498005390167), ('buttholes', 0.40406620502471924), (\"kids'll\", 0.397760272026062), ('elia', 0.39724525809288025), ('boing_boing', 0.39565059542655945), ('clonk', 0.39290928840637207), ('moyes', 0.39226680994033813), ('ahhhhhh', 0.39205050468444824), ('flicky', 0.3918806314468384), ('tuckus', 0.38996580243110657)], 'stroller': [('jogging_stroller', 0.5431261658668518), ('pushchair', 0.5334877371788025), ('baby_stroller', 0.5196958780288696), ('pram', 0.5157114863395691), ('strollers', 0.49034810066223145), ('jogger_stroller', 0.4573305547237396), ('wheeled_walker', 0.45480766892433167), ('Bugaboo_stroller', 0.4544856548309326), ('prams', 0.4444394111633301), ('Snugli', 0.43292123079299927)], 'surf': [('surfing', 0.5898177027702332), ('surfers', 0.5244932174682617), ('surfer', 0.5062459111213684), ('kitesurfers', 0.4668654799461365), ('shorebreak', 0.44868701696395874), ('beachbreak', 0.44810110330581665), ('surfs', 0.4465254247188568), ('beachbreaks', 0.44550010561943054), ('boardriders', 0.4451671540737152), ('boogie_boarders', 0.4300793707370758)], 'swing': [('swings', 0.4692208468914032), ('swinging', 0.41497325897216797), ('clonk', 0.3918730914592743), ('Swing', 0.3777649998664856), ('preshot_routine', 0.3744843602180481), ('bounce', 0.3724091053009033), ('regripping', 0.3673827350139618), ('overswing', 0.3659689426422119), ('swang', 0.36232656240463257), ('instructor_Butch_Harmon', 0.36138105392456055)], 'tennis': [('Tennis', 0.49551090598106384), ('volleyball', 0.4794906675815582), ('badminton', 0.4782394468784332), ('basketball', 0.4452345371246338), ('racquet', 0.43991854786872864), ('racquets', 0.43458127975463867), ('Roger_Federers', 0.4263603389263153), ('clay_courters', 0.4254240393638611), ('pickleball', 0.42185747623443604), ('beach_volleyball', 0.4171963036060333)], 'train': [('trains', 0.564411997795105), ('freight_train', 0.44243699312210083), ('rail', 0.4308053255081177), ('Train', 0.42818108201026917), ('commuter_train', 0.4268419146537781), ('bus', 0.421091228723526), ('railway', 0.41764557361602783), ('freight_trains', 0.4135648310184479), ('choo_choo', 0.41094785928726196), ('locomotive', 0.4060678780078888)]}\n"
          ]
        }
      ]
    },
    {
      "cell_type": "code",
      "source": [
        "import json\n",
        "# Save to a file called 'similar_words.json' for the similar words we did find\n",
        "with open('/content/drive/MyDrive/cs231n/project/similar_words.json', 'w') as f:\n",
        "    json.dump(relatedDict, f, indent=4)  # indent=4 makes it nicely formatted"
      ],
      "metadata": {
        "id": "e4oZXmcbfNwe"
      },
      "execution_count": null,
      "outputs": []
    },
    {
      "cell_type": "code",
      "source": [
        "#save all labels that didn't work to a pickle file\n",
        "with open('/content/drive/MyDrive/cs231n/project/fasttext_labels.pkl', 'wb') as f:\n",
        "    pickle.dump(missingWords, f)"
      ],
      "metadata": {
        "id": "Kl9pu-gWf2ql"
      },
      "execution_count": null,
      "outputs": []
    }
  ]
}